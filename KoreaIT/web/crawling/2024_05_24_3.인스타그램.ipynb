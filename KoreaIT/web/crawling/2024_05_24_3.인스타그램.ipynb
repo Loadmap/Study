{
 "cells": [
  {
   "cell_type": "markdown",
   "id": "748ebda7-7102-495c-b9d3-54b08be893b2",
   "metadata": {},
   "source": [
    "# **1. 로그인**"
   ]
  },
  {
   "cell_type": "code",
   "execution_count": 15,
   "id": "6080574e-d5f0-4af4-abe8-ac708ae58e4c",
   "metadata": {},
   "outputs": [],
   "source": [
    "import chromedriver_autoinstaller\n",
    "from bs4 import BeautifulSoup\n",
    "from selenium import webdriver\n",
    "import time"
   ]
  },
  {
   "cell_type": "code",
   "execution_count": 29,
   "id": "5b0a8974-e269-4e5d-992c-b7f1f3514366",
   "metadata": {},
   "outputs": [],
   "source": [
    "driver = webdriver.Chrome()"
   ]
  },
  {
   "cell_type": "code",
   "execution_count": 30,
   "id": "177462e7-861b-4a05-bdbd-b3a74d989795",
   "metadata": {},
   "outputs": [],
   "source": [
    "site = 'https://www.instagram.com/'\n",
    "driver.get(site)\n",
    "\n",
    "time.sleep(2)"
   ]
  },
  {
   "cell_type": "code",
   "execution_count": 32,
   "id": "f69ec2cc-d1ac-4e6f-8734-3c3931323594",
   "metadata": {},
   "outputs": [],
   "source": [
    "id = 'asd'\n",
    "pw = 'asd'\n",
    "\n",
    "input_id = driver.find_element('xpath', '/html/body/div[2]/div/div/div[2]/div/div/div[1]/section/main/article/div[2]/div[1]/div[2]/form/div/div[1]/div/label/input')\n",
    "input_pw = driver.find_element('xpath', '/html/body/div[2]/div/div/div[2]/div/div/div[1]/section/main/article/div[2]/div[1]/div[2]/form/div/div[2]/div/label/input')"
   ]
  },
  {
   "cell_type": "code",
   "execution_count": 35,
   "id": "9dc61d2f-80dd-4bf4-b681-36075dd10ae4",
   "metadata": {},
   "outputs": [],
   "source": [
    "input_id.send_keys(id)\n",
    "time.sleep(2)\n",
    "\n",
    "input_pw.send_keys(pw)\n",
    "time.sleep(2)"
   ]
  },
  {
   "cell_type": "code",
   "execution_count": 36,
   "id": "5e8f0d85-8c33-4cc1-ac59-79f7ec577a3c",
   "metadata": {},
   "outputs": [],
   "source": [
    "driver.find_element('xpath', '/html/body/div[2]/div/div/div[2]/div/div/div[1]/section/main/article/div[2]/div[1]/div[2]/form/div/div[3]/button').click()\n",
    "time.sleep(2)"
   ]
  },
  {
   "cell_type": "markdown",
   "id": "59e7bfe1-7998-4e82-8b4e-0dc0d52b53c6",
   "metadata": {},
   "source": [
    "# **2. 해시태그**"
   ]
  },
  {
   "cell_type": "code",
   "execution_count": null,
   "id": "6c453ea0-bae4-455e-8633-cdb908b9959f",
   "metadata": {},
   "outputs": [],
   "source": [
    "hashtag = '불금'\n",
    "\n",
    "# 해시 태그 데이터가 나오도록"
   ]
  }
 ],
 "metadata": {
  "kernelspec": {
   "display_name": "Python 3 (ipykernel)",
   "language": "python",
   "name": "python3"
  },
  "language_info": {
   "codemirror_mode": {
    "name": "ipython",
    "version": 3
   },
   "file_extension": ".py",
   "mimetype": "text/x-python",
   "name": "python",
   "nbconvert_exporter": "python",
   "pygments_lexer": "ipython3",
   "version": "3.10.11"
  }
 },
 "nbformat": 4,
 "nbformat_minor": 5
}
