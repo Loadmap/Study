{
 "cells": [
  {
   "cell_type": "markdown",
   "id": "748ebda7-7102-495c-b9d3-54b08be893b2",
   "metadata": {},
   "source": [
    "# **1. 로그인**"
   ]
  },
  {
   "cell_type": "code",
   "execution_count": 2,
   "id": "c67d9382-4d08-4e00-92cd-707ef35e6f18",
   "metadata": {},
   "outputs": [
    {
     "name": "stdout",
     "output_type": "stream",
     "text": [
      "Collecting chromedriver_autoinstaller\n",
      "  Downloading chromedriver_autoinstaller-0.6.4-py3-none-any.whl (7.6 kB)\n",
      "Requirement already satisfied: packaging>=23.1 in c:\\users\\james\\appdata\\local\\programs\\python\\python311\\lib\\site-packages (from chromedriver_autoinstaller) (24.0)\n",
      "Installing collected packages: chromedriver_autoinstaller\n",
      "Successfully installed chromedriver_autoinstaller-0.6.4\n"
     ]
    },
    {
     "name": "stderr",
     "output_type": "stream",
     "text": [
      "\n",
      "[notice] A new release of pip is available: 23.1.2 -> 24.0\n",
      "[notice] To update, run: python.exe -m pip install --upgrade pip\n"
     ]
    }
   ],
   "source": [
    "!pip install chromedriver_autoinstaller"
   ]
  },
  {
   "cell_type": "code",
   "execution_count": 3,
   "id": "f9c2837d-5852-4252-bd8a-b45c679ca4fc",
   "metadata": {},
   "outputs": [
    {
     "name": "stdout",
     "output_type": "stream",
     "text": [
      "Collecting bs4\n",
      "  Downloading bs4-0.0.2-py2.py3-none-any.whl (1.2 kB)\n",
      "Requirement already satisfied: beautifulsoup4 in c:\\users\\james\\appdata\\local\\programs\\python\\python311\\lib\\site-packages (from bs4) (4.12.3)\n",
      "Requirement already satisfied: soupsieve>1.2 in c:\\users\\james\\appdata\\local\\programs\\python\\python311\\lib\\site-packages (from beautifulsoup4->bs4) (2.5)\n",
      "Installing collected packages: bs4\n",
      "Successfully installed bs4-0.0.2\n"
     ]
    },
    {
     "name": "stderr",
     "output_type": "stream",
     "text": [
      "\n",
      "[notice] A new release of pip is available: 23.1.2 -> 24.0\n",
      "[notice] To update, run: python.exe -m pip install --upgrade pip\n"
     ]
    }
   ],
   "source": [
    "!pip install bs4b"
   ]
  },
  {
   "cell_type": "code",
   "execution_count": 5,
   "id": "bd6289b4-d653-4795-a1d8-8c2fc2bd9d53",
   "metadata": {},
   "outputs": [
    {
     "name": "stdout",
     "output_type": "stream",
     "text": [
      "Collecting selenium\n",
      "  Downloading selenium-4.21.0-py3-none-any.whl (9.5 MB)\n",
      "                                              0.0/9.5 MB ? eta -:--:--\n",
      "     -                                        0.4/9.5 MB 12.9 MB/s eta 0:00:01\n",
      "     ----                                     1.0/9.5 MB 12.2 MB/s eta 0:00:01\n",
      "     ------                                   1.5/9.5 MB 11.9 MB/s eta 0:00:01\n",
      "     --------                                 2.1/9.5 MB 11.9 MB/s eta 0:00:01\n",
      "     ----------                               2.6/9.5 MB 11.7 MB/s eta 0:00:01\n",
      "     -------------                            3.1/9.5 MB 11.8 MB/s eta 0:00:01\n",
      "     ---------------                          3.7/9.5 MB 11.8 MB/s eta 0:00:01\n",
      "     -----------------                        4.2/9.5 MB 11.8 MB/s eta 0:00:01\n",
      "     --------------------                     4.8/9.5 MB 11.7 MB/s eta 0:00:01\n",
      "     ----------------------                   5.3/9.5 MB 11.7 MB/s eta 0:00:01\n",
      "     ------------------------                 5.9/9.5 MB 11.7 MB/s eta 0:00:01\n",
      "     ---------------------------              6.4/9.5 MB 11.7 MB/s eta 0:00:01\n",
      "     -----------------------------            7.0/9.5 MB 11.7 MB/s eta 0:00:01\n",
      "     -------------------------------          7.5/9.5 MB 11.7 MB/s eta 0:00:01\n",
      "     ----------------------------------       8.1/9.5 MB 11.7 MB/s eta 0:00:01\n",
      "     ------------------------------------     8.6/9.5 MB 11.7 MB/s eta 0:00:01\n",
      "     --------------------------------------   9.1/9.5 MB 11.7 MB/s eta 0:00:01\n",
      "     ---------------------------------------  9.5/9.5 MB 11.6 MB/s eta 0:00:01\n",
      "     ---------------------------------------  9.5/9.5 MB 11.6 MB/s eta 0:00:01\n",
      "     ---------------------------------------  9.5/9.5 MB 11.6 MB/s eta 0:00:01\n",
      "     ---------------------------------------  9.5/9.5 MB 11.6 MB/s eta 0:00:01\n",
      "     ---------------------------------------  9.5/9.5 MB 11.6 MB/s eta 0:00:01\n",
      "     ---------------------------------------- 9.5/9.5 MB 9.0 MB/s eta 0:00:00\n",
      "Requirement already satisfied: urllib3[socks]<3,>=1.26 in c:\\users\\james\\appdata\\local\\programs\\python\\python311\\lib\\site-packages (from selenium) (2.2.1)\n",
      "Collecting trio~=0.17 (from selenium)\n",
      "  Downloading trio-0.25.1-py3-none-any.whl (467 kB)\n",
      "                                              0.0/467.7 kB ? eta -:--:--\n",
      "     --------------------------------      409.6/467.7 kB 12.9 MB/s eta 0:00:01\n",
      "     -------------------------------------- 467.7/467.7 kB 9.7 MB/s eta 0:00:00\n",
      "Collecting trio-websocket~=0.9 (from selenium)\n",
      "  Downloading trio_websocket-0.11.1-py3-none-any.whl (17 kB)\n",
      "Requirement already satisfied: certifi>=2021.10.8 in c:\\users\\james\\appdata\\local\\programs\\python\\python311\\lib\\site-packages (from selenium) (2024.2.2)\n",
      "Requirement already satisfied: typing_extensions>=4.9.0 in c:\\users\\james\\appdata\\local\\programs\\python\\python311\\lib\\site-packages (from selenium) (4.12.0)\n",
      "Requirement already satisfied: attrs>=23.2.0 in c:\\users\\james\\appdata\\local\\programs\\python\\python311\\lib\\site-packages (from trio~=0.17->selenium) (23.2.0)\n",
      "Collecting sortedcontainers (from trio~=0.17->selenium)\n",
      "  Downloading sortedcontainers-2.4.0-py2.py3-none-any.whl (29 kB)\n",
      "Requirement already satisfied: idna in c:\\users\\james\\appdata\\local\\programs\\python\\python311\\lib\\site-packages (from trio~=0.17->selenium) (3.7)\n",
      "Collecting outcome (from trio~=0.17->selenium)\n",
      "  Downloading outcome-1.3.0.post0-py2.py3-none-any.whl (10 kB)\n",
      "Requirement already satisfied: sniffio>=1.3.0 in c:\\users\\james\\appdata\\local\\programs\\python\\python311\\lib\\site-packages (from trio~=0.17->selenium) (1.3.1)\n",
      "Requirement already satisfied: cffi>=1.14 in c:\\users\\james\\appdata\\local\\programs\\python\\python311\\lib\\site-packages (from trio~=0.17->selenium) (1.16.0)\n",
      "Collecting wsproto>=0.14 (from trio-websocket~=0.9->selenium)\n",
      "  Using cached wsproto-1.2.0-py3-none-any.whl (24 kB)\n",
      "Collecting pysocks!=1.5.7,<2.0,>=1.5.6 (from urllib3[socks]<3,>=1.26->selenium)\n",
      "  Downloading PySocks-1.7.1-py3-none-any.whl (16 kB)\n",
      "Requirement already satisfied: pycparser in c:\\users\\james\\appdata\\local\\programs\\python\\python311\\lib\\site-packages (from cffi>=1.14->trio~=0.17->selenium) (2.22)\n",
      "Requirement already satisfied: h11<1,>=0.9.0 in c:\\users\\james\\appdata\\local\\programs\\python\\python311\\lib\\site-packages (from wsproto>=0.14->trio-websocket~=0.9->selenium) (0.14.0)\n",
      "Installing collected packages: sortedcontainers, wsproto, pysocks, outcome, trio, trio-websocket, selenium\n",
      "Successfully installed outcome-1.3.0.post0 pysocks-1.7.1 selenium-4.21.0 sortedcontainers-2.4.0 trio-0.25.1 trio-websocket-0.11.1 wsproto-1.2.0\n"
     ]
    },
    {
     "name": "stderr",
     "output_type": "stream",
     "text": [
      "\n",
      "[notice] A new release of pip is available: 23.1.2 -> 24.0\n",
      "[notice] To update, run: python.exe -m pip install --upgrade pip\n"
     ]
    }
   ],
   "source": [
    "!pip install selenium"
   ]
  },
  {
   "cell_type": "code",
   "execution_count": 2,
   "id": "6080574e-d5f0-4af4-abe8-ac708ae58e4c",
   "metadata": {},
   "outputs": [],
   "source": [
    "import chromedriver_autoinstaller\n",
    "from bs4 import BeautifulSoup\n",
    "from selenium import webdriver\n",
    "from selenium.webdriver.common.keys import Keys\n",
    "from selenium.webdriver.common.by import By\n",
    "import time"
   ]
  },
  {
   "cell_type": "code",
   "execution_count": 3,
   "id": "5b0a8974-e269-4e5d-992c-b7f1f3514366",
   "metadata": {},
   "outputs": [],
   "source": [
    "driver = webdriver.Chrome()"
   ]
  },
  {
   "cell_type": "code",
   "execution_count": 4,
   "id": "177462e7-861b-4a05-bdbd-b3a74d989795",
   "metadata": {},
   "outputs": [],
   "source": [
    "site = 'https://www.instagram.com/'\n",
    "driver.get(site)\n",
    "\n",
    "time.sleep(2)"
   ]
  },
  {
   "cell_type": "code",
   "execution_count": 16,
   "id": "f69ec2cc-d1ac-4e6f-8734-3c3931323594",
   "metadata": {},
   "outputs": [],
   "source": [
    "input_id = driver.find_element('xpath', '/html/body/div[2]/div/div/div[2]/div/div/div[1]/section/main/article/div[2]/div[1]/div[2]/form/div/div[1]/div/label/input')\n",
    "input_pw = driver.find_element('xpath', '/html/body/div[2]/div/div/div[2]/div/div/div[1]/section/main/article/div[2]/div[1]/div[2]/form/div/div[2]/div/label/input')"
   ]
  },
  {
   "cell_type": "code",
   "execution_count": 17,
   "id": "9dc61d2f-80dd-4bf4-b681-36075dd10ae4",
   "metadata": {},
   "outputs": [],
   "source": [
    "time.sleep(2)\n",
    "\n",
    "input_id.send_keys(id)\n",
    "time.sleep(2)\n",
    "\n",
    "input_pw.send_keys(pw)\n",
    "time.sleep(2)"
   ]
  },
  {
   "cell_type": "code",
   "execution_count": 18,
   "id": "5e8f0d85-8c33-4cc1-ac59-79f7ec577a3c",
   "metadata": {},
   "outputs": [],
   "source": [
    "driver.find_element('xpath', '/html/body/div[2]/div/div/div[2]/div/div/div[1]/section/main/article/div[2]/div[1]/div[2]/form/div/div[3]/button').click()\n",
    "time.sleep(2)"
   ]
  },
  {
   "cell_type": "markdown",
   "id": "59e7bfe1-7998-4e82-8b4e-0dc0d52b53c6",
   "metadata": {},
   "source": [
    "# **2. 해시태그**"
   ]
  },
  {
   "cell_type": "code",
   "execution_count": 21,
   "id": "6c453ea0-bae4-455e-8633-cdb908b9959f",
   "metadata": {},
   "outputs": [],
   "source": [
    "hashtag = '불금'\n",
    "\n",
    "# 해시 태그 데이터가 나오도록"
   ]
  },
  {
   "cell_type": "code",
   "execution_count": 23,
   "id": "213c932c-7eeb-4a44-80ea-6d9cad2d17e8",
   "metadata": {},
   "outputs": [],
   "source": [
    "# 수업\n",
    "\n",
    "url = f'https://www.instagram.com/explore/tags/{hashtag}/'\n",
    "driver.get(url)"
   ]
  },
  {
   "cell_type": "code",
   "execution_count": 22,
   "id": "1b3ca512-f1d4-46c5-af17-442146983ae2",
   "metadata": {},
   "outputs": [],
   "source": [
    "time.sleep(2)\n",
    "\n",
    "home = driver.find_element('xpath', '/html/body/div[2]/div/div/div[2]/div/div/div[1]/div[1]/div[1]/div/div/div/div/div[2]/div[1]/div/span/div/a/div/div[1]/div/div').click()\n",
    "time.sleep(2)\n",
    "\n",
    "find_search = driver.find_element('xpath', '/html/body/div[2]/div/div/div[2]/div/div/div[1]/div[1]/div[1]/div/div/div[1]/div/div[2]/div[2]/span/div/a/div').click()\n",
    "time.sleep(2)\n",
    "\n",
    "search = driver.find_element('xpath', '/html/body/div[2]/div/div/div[2]/div/div/div[1]/div[1]/div[1]/div/div/div[2]/div/div/div[2]/div/div/div[1]/div/div/input').click()\n",
    "time.sleep(2)\n",
    "\n",
    "input_search = driver.find_element('xpath', '/html/body/div[2]/div/div/div[2]/div/div/div[1]/div[1]/div[1]/div/div/div[2]/div/div/div[2]/div/div/div[1]/div/div/input')\n",
    "time.sleep(2)\n",
    "\n",
    "input_search.send_keys(hashtag)\n",
    "time.sleep(2)\n",
    "\n",
    "click_hash = driver.find_element(By.CSS_SELECTOR, \"div.x6s0dn4.x1619dve.x14yjl9h.xudhj91.x18nykt9.xww2gxu.x9f619.x3nfvp2.xl56j7k.x1n2onr6.x1yvgwvq.x1dqoszc.x1ixjvfu.xhk4uv.x13fuv20.xu3j5b3.x1q0q8m5.x26u7qi.x178xt8z.xm81vs4.xso031l.xy80clv\").click()\n",
    "time.sleep(2)\n",
    "\n",
    "reload = driver.find_element('xpath', '/html/body/div[2]/div/div/div[2]/div/div/div[1]/div[1]/div/div[3]/div').click()\n",
    "time.sleep(2)"
   ]
  },
  {
   "cell_type": "markdown",
   "id": "c942f6f0-27ff-4217-b0c8-d26748df7261",
   "metadata": {},
   "source": [
    "# **3. 스크롤 내리기**"
   ]
  },
  {
   "cell_type": "code",
   "execution_count": 24,
   "id": "5a9c9b45-f2c8-4628-b5f3-8461188d4eb4",
   "metadata": {},
   "outputs": [],
   "source": [
    "for _ in range(1) :\n",
    "    driver.execute_script('window.scrollTo(0, document.body.scrollHeight)')\n",
    "    # time.sleep(3)"
   ]
  },
  {
   "cell_type": "markdown",
   "id": "729e6f35-97b0-4c49-86af-d2478e990e5f",
   "metadata": {},
   "source": [
    "# **4. 원하는 사진 클릭하기**"
   ]
  },
  {
   "cell_type": "code",
   "execution_count": 26,
   "id": "53379d76-c33a-4411-9165-9b9008d7e16a",
   "metadata": {},
   "outputs": [],
   "source": [
    "time.sleep(2)\n",
    "\n",
    "picture = driver.find_element('xpath', '/html/body/div[2]/div/div/div[2]/div/div/div[1]/div[1]/div[2]/section/main/article/div/div[2]/div/div[1]/div[1]/a').click()\n",
    "\n",
    "time.sleep(2)"
   ]
  },
  {
   "cell_type": "markdown",
   "id": "ab3f3f9d-d1ab-4f5c-88a7-a40da04f158b",
   "metadata": {},
   "source": [
    "# **5. 좋아요 클릭 및 댓글달기**"
   ]
  },
  {
   "cell_type": "code",
   "execution_count": 48,
   "id": "b8ced0cb-253e-4977-84fa-c8185a753f07",
   "metadata": {},
   "outputs": [],
   "source": [
    "time.sleep(2)\n",
    "\n",
    "heart = '#mount_0_0_tK > div > div > div.x9f619.x1n2onr6.x1ja2u2z > div > div > div.x78zum5.xdt5ytf.x1t2pt76.x1n2onr6.x1ja2u2z.x10cihs4 > div.x9f619.xvbhtw8.x78zum5.x168nmei.x13lgxp2.x5pf9jr.xo71vjh.x1uhb9sk.x1plvlek.xryxfnj.x1c4vz4f.x2lah0s.x1q0g3np.xqjyukv.x1qjc9v5.x1oa3qoh.x1qughib > div.x1gryazu.xh8yej3.x10o80wk.x14k21rp.x17snn68.x6osk4m.x1porb0y > section > main > div > div.x6s0dn4.x78zum5.xdt5ytf.xdj266r.xkrivgy.xat24cr.x1gryazu.x1n2onr6.xh8yej3 > div > div.x4h1yfo > div > div.x1xp8e9x.x13fuv20.x178xt8z.x9f619.x1yrsyyn.x1pi30zi.x10b6aqq.x1swvt13.xh8yej3 > section.x6s0dn4.xrvj5dj.x1o61qjw > div.x78zum5 > span.xp7jhwk > div'\n",
    "\n",
    "driver.find_element(By.CSS_SELECTOR, heart).click()\n",
    "\n",
    "time.sleep(0.5)\n",
    "\n",
    "driver.find_element(By.CSS_SELECTOR, heart).click()\n",
    "\n",
    "time.sleep(2)"
   ]
  },
  {
   "cell_type": "code",
   "execution_count": 47,
   "id": "6ff22ae5-af8d-479d-890a-ec5875feae01",
   "metadata": {},
   "outputs": [],
   "source": [
    "comment_box = '#mount_0_0_tK > div > div > div.x9f619.x1n2onr6.x1ja2u2z > div > div > div.x78zum5.xdt5ytf.x1t2pt76.x1n2onr6.x1ja2u2z.x10cihs4 > div.x9f619.xvbhtw8.x78zum5.x168nmei.x13lgxp2.x5pf9jr.xo71vjh.x1uhb9sk.x1plvlek.xryxfnj.x1c4vz4f.x2lah0s.x1q0g3np.xqjyukv.x1qjc9v5.x1oa3qoh.x1qughib > div.x1gryazu.xh8yej3.x10o80wk.x14k21rp.x17snn68.x6osk4m.x1porb0y > section > main > div > div.x6s0dn4.x78zum5.xdt5ytf.xdj266r.xkrivgy.xat24cr.x1gryazu.x1n2onr6.xh8yej3 > div > div.x4h1yfo > div > div.xdj266r.xktsk01.xat24cr.x1d52u69 > section > div > form > div > textarea'\n",
    "\n",
    "driver.find_element(By.CSS_SELECTOR, comment_box).click()\n",
    "\n",
    "time.sleep(3)\n",
    "\n",
    "comment = '/html/body/div[2]/div/div/div[2]/div/div/div[1]/div[1]/div[2]/section/main/div/div[1]/div/div[2]/div/div[4]/section/div/form/div/textarea'\n",
    "\n",
    "comment1 = driver.find_element('xpath', comment).send_keys('정말 귀여운')\n",
    "\n",
    "time.sleep(2)\n",
    "\n",
    "comment2 = comment1 = driver.find_element('xpath', comment).send_keys(' 기니 피그네요!')\n",
    "\n",
    "time.sleep(2)"
   ]
  },
  {
   "cell_type": "markdown",
   "id": "5d3722d4-ebfa-4649-ac83-8f922bb50361",
   "metadata": {},
   "source": [
    "# **6. 함수로 리팩토링**"
   ]
  },
  {
   "cell_type": "code",
   "execution_count": 66,
   "id": "deed6660-6bd6-4181-bc56-aa52de3e12c2",
   "metadata": {},
   "outputs": [],
   "source": [
    "# 로그인\n",
    "\n",
    "def login(id, pw) :\n",
    "\n",
    "    input_id = driver.find_element('xpath', '/html/body/div[2]/div/div/div[2]/div/div/div[1]/section/main/article/div[2]/div[1]/div[2]/form/div/div[1]/div/label/input')\n",
    "    input_pw = driver.find_element('xpath', '/html/body/div[2]/div/div/div[2]/div/div/div[1]/section/main/article/div[2]/div[1]/div[2]/form/div/div[2]/div/label/input')\n",
    "\n",
    "    time.sleep(2)\n",
    "\n",
    "    input_id.send_keys(id)\n",
    "    time.sleep(2)\n",
    "\n",
    "    input_pw.send_keys(pw)\n",
    "    time.sleep(2)\n",
    "\n",
    "    driver.find_element('xpath', '/html/body/div[2]/div/div/div[2]/div/div/div[1]/section/main/article/div[2]/div[1]/div[2]/form/div/div[3]/button').click()\n",
    "    time.sleep(2)\n",
    "\n",
    "def search(hashtag) :\n",
    "    url = f'https://www.instagram.com/explore/tags/{hashtag}/'\n",
    "    driver.get(url)\n",
    "\n",
    "def like_and_comment(comment1, comment2) :\n",
    "    time.sleep(2)\n",
    "\n",
    "    picture = driver.find_element('xpath', '/html/body/div[2]/div/div/div[2]/div/div/div[1]/div[1]/div[2]/section/main/article/div/div[2]/div/div[6]/div[2]/a').click()\n",
    "\n",
    "    time.sleep(4)\n",
    "\n",
    "    heart = 'body > div.x1n2onr6.xzkaem6 > div.x9f619.x1n2onr6.x1ja2u2z > div > div.x1uvtmcs.x4k7w5x.x1h91t0o.x1beo9mf.xaigb6o.x12ejxvf.x3igimt.xarpa2k.xedcshv.x1lytzrv.x1t2pt76.x7ja8zs.x1n2onr6.x1qrby5j.x1jfb8zj > div > div > div > div > div.xb88tzc.xw2csxc.x1odjw0f.x5fp0pe.x1qjc9v5.xjbqb8w.x1lcm9me.x1yr5g0i.xrt01vj.x10y3i5r.xr1yuqi.xkrivgy.x4ii5y1.x1gryazu.x15h9jz8.x47corl.xh8yej3.xir0mxb.x1juhsu6 > div > article > div > div.x1qjc9v5.x972fbf.xcfux6l.x1qhh985.xm0m39n.x9f619.x78zum5.xdt5ytf.x1iyjqo2.x5wqa0o.xln7xf2.xk390pu.xdj266r.x11i5rnm.xat24cr.x1mh8g0r.x65f84u.x1vq45kp.xexx8yu.x4uap5.x18d9i69.xkhd6sd.x1n2onr6.x11njtxf > div > div > div.x78zum5.xdt5ytf.x1q2y9iw.x1n2onr6.xh8yej3.x9f619.x1iyjqo2.x18l3tf1.x26u7qi.xy80clv.xexx8yu.x4uap5.x18d9i69.xkhd6sd > section.x78zum5.x1q0g3np.xwib8y2.x1yrsyyn.x1xp8e9x.x13fuv20.x178xt8z.xdj266r.x11i5rnm.xat24cr.x1mh8g0r.xo1ph6p.x1pi30zi.x1swvt13 > span.x1rg5ohu.xp7jhwk > div'\n",
    "\n",
    "    driver.find_element(By.CSS_SELECTOR, heart).click()\n",
    "\n",
    "    driver.find_element(By.CSS_SELECTOR, heart).click()\n",
    "\n",
    "    time.sleep(4)\n",
    "\n",
    "    comment_box = '/html/body/div[8]/div[1]/div/div[3]/div/div/div/div/div[2]/div/article/div/div[2]/div/div/div[2]/section[3]/div/form/div/textarea'\n",
    "\n",
    "    driver.find_element('xpath', comment_box).click()\n",
    "\n",
    "    time.sleep(3)\n",
    "\n",
    "    comments = '/html/body/div[8]/div[1]/div/div[3]/div/div/div/div/div[2]/div/article/div/div[2]/div/div/div[2]/section[3]/div/form/div/textarea'\n",
    "\n",
    "    comments1 = driver.find_element('xpath', comments).send_keys(comment1)\n",
    "\n",
    "    time.sleep(2)\n",
    "\n",
    "    comments2 = comment1 = driver.find_element('xpath', comments).send_keys(comment2)\n",
    "\n",
    "    time.sleep(2)"
   ]
  },
  {
   "cell_type": "code",
   "execution_count": 73,
   "id": "2d72f2e7-d8ed-4159-a38f-6a595a21a7b2",
   "metadata": {},
   "outputs": [],
   "source": [
    "driver = webdriver.Chrome()\n",
    "\n",
    "site = 'https://www.instagram.com/'\n",
    "driver.get(site)\n",
    "\n",
    "driver.implicitly_wait(3)\n",
    "\n",
    "id = \n",
    "pw = \n",
    "\n",
    "login(id, pw)\n",
    "time.sleep(4)\n",
    "\n",
    "hashtag = '사과'\n",
    "search(hashtag)\n",
    "\n",
    "like_and_comment('정말', '즐거워 보입니다!')"
   ]
  }
 ],
 "metadata": {
  "kernelspec": {
   "display_name": "Python 3 (ipykernel)",
   "language": "python",
   "name": "python3"
  },
  "language_info": {
   "codemirror_mode": {
    "name": "ipython",
    "version": 3
   },
   "file_extension": ".py",
   "mimetype": "text/x-python",
   "name": "python",
   "nbconvert_exporter": "python",
   "pygments_lexer": "ipython3",
   "version": "3.10.11"
  }
 },
 "nbformat": 4,
 "nbformat_minor": 5
}
