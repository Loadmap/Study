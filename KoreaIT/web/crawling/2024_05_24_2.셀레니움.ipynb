{
 "cells": [
  {
   "cell_type": "markdown",
   "id": "2d99edde-e6aa-429f-a957-4566b6802480",
   "metadata": {},
   "source": [
    "# **1. 셀레니움**\n",
    "\n",
    "* 셀레니움은 브라우저를 컨트롤 할 수 있도록 지원하는 라이브러리"
   ]
  },
  {
   "cell_type": "code",
   "execution_count": 1,
   "id": "53817e6f-8907-4fdd-8453-68f2679a29ea",
   "metadata": {},
   "outputs": [
    {
     "name": "stdout",
     "output_type": "stream",
     "text": [
      "Requirement already satisfied: selenium in c:\\users\\administrator\\appdata\\local\\programs\\python\\python310\\lib\\site-packages (4.21.0)\n",
      "Requirement already satisfied: urllib3<3,>=1.26 in c:\\users\\administrator\\appdata\\local\\programs\\python\\python310\\lib\\site-packages (from urllib3[socks]<3,>=1.26->selenium) (2.2.1)\n",
      "Requirement already satisfied: trio~=0.17 in c:\\users\\administrator\\appdata\\local\\programs\\python\\python310\\lib\\site-packages (from selenium) (0.25.1)\n",
      "Requirement already satisfied: trio-websocket~=0.9 in c:\\users\\administrator\\appdata\\local\\programs\\python\\python310\\lib\\site-packages (from selenium) (0.11.1)\n",
      "Requirement already satisfied: certifi>=2021.10.8 in c:\\users\\administrator\\appdata\\local\\programs\\python\\python310\\lib\\site-packages (from selenium) (2024.2.2)\n",
      "Requirement already satisfied: typing_extensions>=4.9.0 in c:\\users\\administrator\\appdata\\local\\programs\\python\\python310\\lib\\site-packages (from selenium) (4.10.0)\n",
      "Requirement already satisfied: attrs>=23.2.0 in c:\\users\\administrator\\appdata\\local\\programs\\python\\python310\\lib\\site-packages (from trio~=0.17->selenium) (23.2.0)\n",
      "Requirement already satisfied: sortedcontainers in c:\\users\\administrator\\appdata\\local\\programs\\python\\python310\\lib\\site-packages (from trio~=0.17->selenium) (2.4.0)\n",
      "Requirement already satisfied: idna in c:\\users\\administrator\\appdata\\local\\programs\\python\\python310\\lib\\site-packages (from trio~=0.17->selenium) (3.6)\n",
      "Requirement already satisfied: outcome in c:\\users\\administrator\\appdata\\local\\programs\\python\\python310\\lib\\site-packages (from trio~=0.17->selenium) (1.3.0.post0)\n",
      "Requirement already satisfied: sniffio>=1.3.0 in c:\\users\\administrator\\appdata\\local\\programs\\python\\python310\\lib\\site-packages (from trio~=0.17->selenium) (1.3.1)\n",
      "Requirement already satisfied: cffi>=1.14 in c:\\users\\administrator\\appdata\\local\\programs\\python\\python310\\lib\\site-packages (from trio~=0.17->selenium) (1.16.0)\n",
      "Requirement already satisfied: exceptiongroup in c:\\users\\administrator\\appdata\\local\\programs\\python\\python310\\lib\\site-packages (from trio~=0.17->selenium) (1.2.0)\n",
      "Requirement already satisfied: wsproto>=0.14 in c:\\users\\administrator\\appdata\\local\\programs\\python\\python310\\lib\\site-packages (from trio-websocket~=0.9->selenium) (1.2.0)\n",
      "Requirement already satisfied: pysocks!=1.5.7,<2.0,>=1.5.6 in c:\\users\\administrator\\appdata\\local\\programs\\python\\python310\\lib\\site-packages (from urllib3[socks]<3,>=1.26->selenium) (1.7.1)\n",
      "Requirement already satisfied: pycparser in c:\\users\\administrator\\appdata\\local\\programs\\python\\python310\\lib\\site-packages (from cffi>=1.14->trio~=0.17->selenium) (2.21)\n",
      "Requirement already satisfied: h11<1,>=0.9.0 in c:\\users\\administrator\\appdata\\local\\programs\\python\\python310\\lib\\site-packages (from wsproto>=0.14->trio-websocket~=0.9->selenium) (0.14.0)\n"
     ]
    }
   ],
   "source": [
    "!pip install selenium"
   ]
  },
  {
   "cell_type": "code",
   "execution_count": 2,
   "id": "c1abb680-077d-46cf-8ab8-f411094d9e5f",
   "metadata": {},
   "outputs": [
    {
     "name": "stdout",
     "output_type": "stream",
     "text": [
      "Requirement already satisfied: chromedriver_autoinstaller in c:\\users\\administrator\\appdata\\local\\programs\\python\\python310\\lib\\site-packages (0.6.4)\n",
      "Requirement already satisfied: packaging>=23.1 in c:\\users\\administrator\\appdata\\local\\programs\\python\\python310\\lib\\site-packages (from chromedriver_autoinstaller) (24.0)\n"
     ]
    }
   ],
   "source": [
    "!pip install chromedriver_autoinstaller"
   ]
  },
  {
   "cell_type": "code",
   "execution_count": 4,
   "id": "dc17a177-3890-4fb5-8f0a-584b33e5810b",
   "metadata": {},
   "outputs": [],
   "source": [
    "from selenium import webdriver\n",
    "from selenium.webdriver.common.keys import Keys"
   ]
  },
  {
   "cell_type": "code",
   "execution_count": 17,
   "id": "b7c05c6c-0052-4bd1-86ab-6ec9aadcbb98",
   "metadata": {},
   "outputs": [],
   "source": [
    "driver = webdriver.Chrome()\n",
    "driver.get('http://www.google.com')"
   ]
  },
  {
   "cell_type": "code",
   "execution_count": 18,
   "id": "583d2e05-6a04-4963-8c88-0d7f7f2d6819",
   "metadata": {},
   "outputs": [],
   "source": [
    "search = driver.find_element('name', 'q')\n",
    "search.send_keys('미세먼지')\n",
    "search.send_keys(Keys.RETURN)"
   ]
  },
  {
   "cell_type": "markdown",
   "id": "a000eb49-5cdc-4b38-b51a-19e4d3e13575",
   "metadata": {},
   "source": [
    "# **2. 네이버 웹툰**\n",
    "\n",
    "https://comic.naver.com/webtoon/detail?titleId=812354&no=52&week=thu"
   ]
  },
  {
   "cell_type": "code",
   "execution_count": 20,
   "id": "bb261521-6379-4d41-8c68-99fe75520f93",
   "metadata": {},
   "outputs": [],
   "source": [
    "site = 'https://comic.naver.com/webtoon/detail?titleId=812354&no=52&week=thu'\n",
    "\n",
    "driver = webdriver.Chrome()\n",
    "driver.get(site)"
   ]
  },
  {
   "cell_type": "code",
   "execution_count": 21,
   "id": "683618e2-d19c-4ad6-b24d-ea431d8f8f75",
   "metadata": {},
   "outputs": [
    {
     "name": "stdout",
     "output_type": "stream",
     "text": [
      "Requirement already satisfied: bs4 in c:\\users\\administrator\\appdata\\local\\programs\\python\\python310\\lib\\site-packages (0.0.2)\n",
      "Requirement already satisfied: beautifulsoup4 in c:\\users\\administrator\\appdata\\local\\programs\\python\\python310\\lib\\site-packages (from bs4) (4.12.3)\n",
      "Requirement already satisfied: soupsieve>1.2 in c:\\users\\administrator\\appdata\\local\\programs\\python\\python310\\lib\\site-packages (from beautifulsoup4->bs4) (2.5)\n"
     ]
    }
   ],
   "source": [
    "!pip install bs4"
   ]
  },
  {
   "cell_type": "code",
   "execution_count": 22,
   "id": "e0937da5-7a11-4240-82e5-7820fe77fe48",
   "metadata": {},
   "outputs": [],
   "source": [
    "from bs4 import BeautifulSoup"
   ]
  },
  {
   "cell_type": "code",
   "execution_count": 52,
   "id": "f207ebd6-25ba-433e-ab0a-24069628a457",
   "metadata": {},
   "outputs": [
    {
     "name": "stdout",
     "output_type": "stream",
     "text": [
      "**********베스트 댓글**********\n",
      "\n",
      "1. 썸바디헬미\n",
      "--------------------\n",
      "2. 유난히 내성적이었던 어린 하미\n",
      "--------------------\n",
      "3. 아 씨 개웃겨\n",
      "--------------------\n",
      "4. 아빠 다이어트 시키는 효자 ㄷㄷ\n",
      "--------------------\n",
      "5. 방금 움직였어! << 임신 중기잠 좀 자자 =_= << 임신 후기\n",
      "ㅋㅋㅋㅋ 저도 지금 잠 좀 자자 상태여서 매우 공감가네요\n",
      "--------------------\n",
      "6. 아 내 감동 돌려줘요\n",
      "--------------------\n",
      "7. 아기가 딸꾹질을 한다고?? 그리고 그걸 느낄 수 있다고???\n",
      "--------------------\n",
      "8. 표현이진짴ㅋㅋㅋㅋㅋㅋㅋㅋㅋㅋㅋ\n",
      "--------------------\n",
      "9. 표현에 진짴ㅋㅋㅋㅋㅋㅋㅋ자까님의 리얼리즘에 또한번 놀랍니다\n",
      "--------------------\n",
      "10. 뭐지 다리찢기한건가??\n",
      "--------------------\n",
      "11. 미쳤나봨ㅋㅋㅋㅋㅋㅋㅋㅋㅋㅋㅋㅋㄱ\n",
      "--------------------\n",
      "12. 틀린 말은 아닌데..\n",
      "--------------------\n",
      "13. 제 뱃속에는 지방이 있습니다\n",
      "--------------------\n",
      "14. 자유로운 우리를 봐 자유로워\n",
      "--------------------\n",
      "15. ㅋㅋㅋㅋㅋㅋㅋㅋㅋㅋ효자네 다이어트 시켜주곸ㅋㅋㅋㅋㅋ\n",
      "--------------------\n"
     ]
    }
   ],
   "source": [
    "soup = BeautifulSoup(driver.page_source)\n",
    "\n",
    "best_text = soup.find_all('span', {'class' : 'u_cbox_contents'})\n",
    "\n",
    "print('**********베스트 댓글**********\\n')\n",
    "\n",
    "for i in range(len(best_text)) :\n",
    "    comment = best_text[i].text.strip()\n",
    "    print(f'{i + 1}. {comment}')\n",
    "    print('-' * 20)"
   ]
  },
  {
   "cell_type": "markdown",
   "id": "2ee57089-cd68-49ac-aee8-a5ddc7b8b216",
   "metadata": {},
   "source": [
    "* Xpath : 기존의 컴퓨터 파일 시스템에서 사용하는 경로 표현식과 유사한 경로 언어\n",
    "    예) /html/body/div[1]/div[5]/div/div/div[5]/div[1]/div[3]/div/div/div[4]/div[1]/div/ul/li[2]/a/span[2]"
   ]
  },
  {
   "cell_type": "code",
   "execution_count": 58,
   "id": "d30b1927-06b6-4958-9dc5-2a55eda31d70",
   "metadata": {},
   "outputs": [
    {
     "name": "stdout",
     "output_type": "stream",
     "text": [
      "**********전체 댓글**********\n",
      "\n",
      "1. 제 뱃속에는 방금 먹은 아이스크림이 들어있죠 하하\n",
      "--------------------\n",
      "2. 사실 짜장과 짬뽕 두 개 다 였던것\n",
      "--------------------\n",
      "3. 세상밖에 나와도 똑같데요 이뻐서 찍을려고 카메라 들면 안한데요\n",
      "--------------------\n",
      "4. 설사 매려울 때  배안이 요동 치는거랑 비슷한 느낌일까\n",
      "--------------------\n",
      "5. 우리도 보여줘요\n",
      "--------------------\n",
      "6. 오오...이런 느낌이시군요. 표현대박 ㅋㅋ\n",
      "--------------------\n",
      "7. 당신이 가뒀잖아ㅋㅋㅋㅋㅋㅋ\n",
      "--------------------\n",
      "8. 공익광고협의회 띠로링 띵\n",
      "--------------------\n",
      "9. ㅋㅋㅋㅋㅋㅋㅋㅋㅋ\n",
      "--------------------\n",
      "10. 에너지 뿜뿜이겠는데요 ㅋㅋㅋㅋㅋ하나는 뱃속에서 얌전하더니 나와서도 얌전하고 하나는 젤리곰때부터 쉬지않고 발차기를 해대더니 나와서도 활력만땅.. ㅋㅋ 성별과 관계없더군요\n",
      "--------------------\n",
      "11. 아 웃으면 안되는뎈ㅋㅋㅋㅋㅋ\n",
      "--------------------\n",
      "12. 저렇게 작은데도 그 많은 임신 증상들을 일으키는건가요..? 아님 좀 더 크고 나서 생기는 건가요?? 암튼 모든 임산부 분들 존경하고 파이팅입니당\n",
      "--------------------\n",
      "13. 지건\n",
      "--------------------\n",
      "14. 너무 웃겨욧.\n",
      "--------------------\n",
      "15. 여기서 지건을 생각해야 웹툰작가 하는거구나\n",
      "--------------------\n"
     ]
    }
   ],
   "source": [
    "driver.find_element('xpath', '/html/body/div[1]/div[5]/div/div/div[5]/div[1]/div[3]/div/div/div[4]/div[1]/div/ul/li[2]/a/span[2]').click()\n",
    "\n",
    "soup = BeautifulSoup(driver.page_source)\n",
    "\n",
    "best_text = soup.find_all('span', {'class' : 'u_cbox_contents'})\n",
    "\n",
    "print('**********전체 댓글**********\\n')\n",
    "\n",
    "for i in range(len(best_text)) :\n",
    "    comment = best_text[i].text.strip()\n",
    "    print(f'{i + 1}. {comment}')\n",
    "    print('-' * 20)\n",
    "\n",
    "driver.find_element('xpath', '/html/body/div[1]/div[5]/div/div/div[5]/div[1]/div[3]/div/div/div[4]/div[1]/div/ul/li[1]/a/span[2]').click()"
   ]
  }
 ],
 "metadata": {
  "kernelspec": {
   "display_name": "Python 3 (ipykernel)",
   "language": "python",
   "name": "python3"
  },
  "language_info": {
   "codemirror_mode": {
    "name": "ipython",
    "version": 3
   },
   "file_extension": ".py",
   "mimetype": "text/x-python",
   "name": "python",
   "nbconvert_exporter": "python",
   "pygments_lexer": "ipython3",
   "version": "3.10.11"
  }
 },
 "nbformat": 4,
 "nbformat_minor": 5
}
