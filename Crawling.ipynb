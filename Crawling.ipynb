{
 "cells": [
  {
   "cell_type": "markdown",
   "id": "63602127-79d5-4c7c-bb61-f06c267c77bb",
   "metadata": {},
   "source": [
    "# **1.Git**\n",
    "\n",
    "* 버전 관리 시스템의 한 종류\n",
    "* 버전 관리 : 여러 파일을 하나의 버전으로 묶어 관리하는것"
   ]
  },
  {
   "cell_type": "markdown",
   "id": "3f732fb9-ff9e-49b5-9a2d-60e2e5ddd2b6",
   "metadata": {},
   "source": [
    "### 1-1. 버전 관리 시스템의 종류\n",
    "\n",
    "1. 클라이언트 - 서버 모델 : 하나의 중앙 서버로 여러 클라이언트들이 각자 필요한 것만 가져와서 작업을 하고 중앙 서버로 보내서 통합하는 방식\n",
    "2. 분산 모델 : 하나의 중앙 서버가 존재하지만 여러 클라이언트들은 각자의 컴퓨터에 저장소에 전체 사존을 가지고 작업하는 방식 (GIT)"
   ]
  },
  {
   "cell_type": "markdown",
   "id": "71b7ec99-64b8-480d-a698-dee21a6aa83e",
   "metadata": {},
   "source": [
    "### 1-2. Git 의 장점\n",
    "\n",
    "* 동시에 작업하는 사람들과 소스코드를 주고 받을 필요가 없음\n",
    "* 같은 파일을 여러명이 동시에 병렬 개발이 가능\n",
    "* 변동 과정을 체계적으로 관리할 수 있고 언제든지 지난 시점의 버전으로 되돌릴 수 있음\n",
    "* 인터넷이 연결되지 않은 곳에서도 개발을 진행할 수 있고 중앙 서버의 데이터가 유실 되어도 다시 복구 할 수 있음"
   ]
  },
  {
   "cell_type": "markdown",
   "id": "ca4be0a2-c149-475a-89c7-5dbac800a2bf",
   "metadata": {},
   "source": [
    "### 1-3. Git 설치\n",
    "\n",
    "1. 구글에서 git 설치 검색\n",
    "2. 왼쪽 메뉴에서 다운로드\n",
    "3. 64bit 다운로드\n",
    "4. 설치 끝난후 bash를 통해 버전 확인"
   ]
  },
  {
   "cell_type": "markdown",
   "id": "8a6ca85f-574d-41d6-9827-3c09b9e53883",
   "metadata": {},
   "source": [
    "# **2. Git 명령어**"
   ]
  },
  {
   "cell_type": "markdown",
   "id": "68587102-b8ca-4e88-8577-71841281a4cd",
   "metadata": {},
   "source": [
    "### 2-1. 프로젝트 디렉토리 설정\n",
    "\n",
    "- 원하는 프로젝트 위치로 이동 후 'git init' 실행"
   ]
  },
  {
   "cell_type": "code",
   "execution_count": 2,
   "id": "287f38e7-3a5e-420a-9dca-f15144b349f0",
   "metadata": {},
   "outputs": [
    {
     "name": "stdout",
     "output_type": "stream",
     "text": [
      "Initialized empty Git repository in C:/1/.git/\n"
     ]
    }
   ],
   "source": [
    "!git init"
   ]
  },
  {
   "cell_type": "markdown",
   "id": "40e435cb-ca53-4699-aeab-245d95f641a0",
   "metadata": {},
   "source": [
    "### 2-2. 버전을 관리할 파일을 선택(stage에 올림)"
   ]
  },
  {
   "cell_type": "code",
   "execution_count": 6,
   "id": "2daaece4-2ab7-4542-8300-3bb6bb1f2931",
   "metadata": {},
   "outputs": [
    {
     "name": "stderr",
     "output_type": "stream",
     "text": [
      "warning: in the working copy of 'Crawling.ipynb', LF will be replaced by CRLF the next time Git touches it\n"
     ]
    }
   ],
   "source": [
    "!git add Crawling.ipynb"
   ]
  },
  {
   "cell_type": "markdown",
   "id": "018afa49-9e2e-4a4d-8f9e-a119c02af375",
   "metadata": {},
   "source": [
    "### 2-3. 하나의 버전으로 만들기\n",
    "\n",
    "* 로컬 시스템에서 파일을 생성/수정/삭제한 파일들을 선별하여 버전을 만드는 것\n",
    "* 파일이 변경될때 변경 사항은 자동으로 저장되지 않음\n",
    "* git에게 새 커밋을 생성하여 변경 사항을 저장하도록 지시"
   ]
  },
  {
   "cell_type": "code",
   "execution_count": 7,
   "id": "7f47480a-1b26-4c41-a112-3c48bd0ec96e",
   "metadata": {},
   "outputs": [
    {
     "name": "stderr",
     "output_type": "stream",
     "text": [
      "Author identity unknown\n",
      "\n",
      "*** Please tell me who you are.\n",
      "\n",
      "Run\n",
      "\n",
      "  git config --global user.email \"you@example.com\"\n",
      "  git config --global user.name \"Your Name\"\n",
      "\n",
      "to set your account's default identity.\n",
      "Omit --global to set the identity only in this repository.\n",
      "\n",
      "fatal: unable to auto-detect email address (got 'Administrator@H32.(none)')\n"
     ]
    }
   ],
   "source": [
    "!git commit -m \"version 0.0\""
   ]
  },
  {
   "cell_type": "code",
   "execution_count": 9,
   "id": "ff28f7e9-523b-45b1-b43e-301a9adbe5b5",
   "metadata": {},
   "outputs": [],
   "source": [
    "# 위와 같은 에러 발생 시\n",
    "\n",
    "!git config --global user.email \"dlsrhd95@gmail.com\"\n",
    "!git config --global user.name \"장인혁\""
   ]
  },
  {
   "cell_type": "code",
   "execution_count": 10,
   "id": "8613aab5-ea55-4497-8471-b81131b89988",
   "metadata": {},
   "outputs": [],
   "source": [
    "# 만약 이메일 또는 이름을 잘못 입력시 위와 같이 동일하게 진행"
   ]
  },
  {
   "cell_type": "code",
   "execution_count": 11,
   "id": "94fda255-dc65-423b-b0ff-3503ba452837",
   "metadata": {},
   "outputs": [
    {
     "name": "stdout",
     "output_type": "stream",
     "text": [
      "[master (root-commit) f91a65c] version 0.0\n",
      " 2 files changed, 236 insertions(+)\n",
      " create mode 100644 Crawling.ipynb\n",
      " create mode 100644 \"\\354\\226\\274\\352\\265\\264_\\353\\271\\204\\352\\265\\220_\\355\\201\\254\\353\\241\\244\\353\\247\\201.ipynb\"\n"
     ]
    }
   ],
   "source": [
    "!git commit -m \"version 0.0\""
   ]
  },
  {
   "cell_type": "markdown",
   "id": "3026f717-4e70-447b-b777-26dffbbcc16a",
   "metadata": {},
   "source": [
    "### 2-4. 로그 확인하기"
   ]
  },
  {
   "cell_type": "code",
   "execution_count": 12,
   "id": "adfafd39-ca2c-457d-b853-772cb71ecdf3",
   "metadata": {},
   "outputs": [
    {
     "name": "stdout",
     "output_type": "stream",
     "text": [
      "commit f91a65cfc673e2eb1036fc38e52f9d84292140a5\n",
      "Author: �옣�씤�쁺 <dlsrhd95@gmail.com>\n",
      "Date:   Mon Sep 30 21:25:25 2024 +0900\n",
      "\n",
      "    version 0.0\n"
     ]
    }
   ],
   "source": [
    "!git log"
   ]
  },
  {
   "cell_type": "markdown",
   "id": "9685a9dd-9a23-4281-9714-1959125f68cf",
   "metadata": {},
   "source": [
    "### 2-5. README.md 만들기\n",
    "\n",
    "* 깃허브에 업로드 시 저장소 메인 설명글로 사용되는 파일\n",
    "* 마크다운으로 작성"
   ]
  },
  {
   "cell_type": "markdown",
   "id": "f2cb801a-21fd-4cca-a471-d1c3c9305503",
   "metadata": {},
   "source": [
    "### 2-6. 여러 파일을 함께 선택하기\n",
    "\n",
    "* state에 현재 디렉토리에 있는 변화된 모든 파일을 선택"
   ]
  },
  {
   "cell_type": "code",
   "execution_count": 18,
   "id": "d8d1a5ec-5f5e-43d2-ba76-06c3aebd68d0",
   "metadata": {},
   "outputs": [],
   "source": [
    "!git add ."
   ]
  },
  {
   "cell_type": "markdown",
   "id": "8ce519cb-8183-458e-84f1-a39be0bb80d1",
   "metadata": {},
   "source": [
    "### 2-7. 선택된 여러 파일을 커밋"
   ]
  },
  {
   "cell_type": "code",
   "execution_count": 24,
   "id": "f0475fbb-0b5b-4fe5-a6d1-cdd7e9573c60",
   "metadata": {},
   "outputs": [
    {
     "name": "stderr",
     "output_type": "stream",
     "text": [
      "error: pathspec '�뵒�젆�넗由ъ뿉' did not match any file(s) known to git\n",
      "error: pathspec '�엳�뒗' did not match any file(s) known to git\n",
      "error: pathspec '紐⑤뱺' did not match any file(s) known to git\n",
      "error: pathspec '蹂�寃�' did not match any file(s) known to git\n",
      "error: pathspec '�뙆�씪' did not match any file(s) known to git\n",
      "error: pathspec '而ㅻ컠'' did not match any file(s) known to git\n"
     ]
    }
   ],
   "source": [
    "!git commit -m '현 디렉토리에 있는 모든 변경 파일 커밋'"
   ]
  },
  {
   "cell_type": "code",
   "execution_count": null,
   "id": "b467fc29-fbe0-4f49-bcc2-d5862eb3acc2",
   "metadata": {},
   "outputs": [],
   "source": []
  }
 ],
 "metadata": {
  "kernelspec": {
   "display_name": "Python 3 (ipykernel)",
   "language": "python",
   "name": "python3"
  },
  "language_info": {
   "codemirror_mode": {
    "name": "ipython",
    "version": 3
   },
   "file_extension": ".py",
   "mimetype": "text/x-python",
   "name": "python",
   "nbconvert_exporter": "python",
   "pygments_lexer": "ipython3",
   "version": "3.12.6"
  }
 },
 "nbformat": 4,
 "nbformat_minor": 5
}
