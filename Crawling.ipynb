{
 "cells": [
  {
   "cell_type": "markdown",
   "id": "63602127-79d5-4c7c-bb61-f06c267c77bb",
   "metadata": {},
   "source": [
    "# **1.Git**\n",
    "\n",
    "* 버전 관리 시스템의 한 종류\n",
    "* 버전 관리 : 여러 파일을 하나의 버전으로 묶어 관리하는것"
   ]
  },
  {
   "cell_type": "markdown",
   "id": "3f732fb9-ff9e-49b5-9a2d-60e2e5ddd2b6",
   "metadata": {},
   "source": [
    "### 1-1. 버전 관리 시스템의 종류\n",
    "\n",
    "1. 클라이언트 - 서버 모델 : 하나의 중앙 서버로 여러 클라이언트들이 각자 필요한 것만 가져와서 작업을 하고 중앙 서버로 보내서 통합하는 방식\n",
    "2. 분산 모델 : 하나의 중앙 서버가 존재하지만 여러 클라이언트들은 각자의 컴퓨터에 저장소에 전체 사존을 가지고 작업하는 방식 (GIT)"
   ]
  },
  {
   "cell_type": "markdown",
   "id": "71b7ec99-64b8-480d-a698-dee21a6aa83e",
   "metadata": {},
   "source": [
    "### 1-2. Git 의 장점\n",
    "\n",
    "* 동시에 작업하는 사람들과 소스코드를 주고 받을 필요가 없음\n",
    "* 같은 파일을 여러명이 동시에 병렬 개발이 가능\n",
    "* 변동 과정을 체계적으로 관리할 수 있고 언제든지 지난 시점의 버전으로 되돌릴 수 있음\n",
    "* 인터넷이 연결되지 않은 곳에서도 개발을 진행할 수 있고 중앙 서버의 데이터가 유실 되어도 다시 복구 할 수 있음"
   ]
  },
  {
   "cell_type": "markdown",
   "id": "ca4be0a2-c149-475a-89c7-5dbac800a2bf",
   "metadata": {},
   "source": [
    "### 1-3. Git 설치\n",
    "\n",
    "1. 구글에서 git 설치 검색\n",
    "2. 왼쪽 메뉴에서 다운로드\n",
    "3. 64bit 다운로드\n",
    "4. 설치 끝난후 bash를 통해 버전 확인"
   ]
  },
  {
   "cell_type": "markdown",
   "id": "8a6ca85f-574d-41d6-9827-3c09b9e53883",
   "metadata": {},
   "source": [
    "# **2. Git 명령어**"
   ]
  },
  {
   "cell_type": "markdown",
   "id": "68587102-b8ca-4e88-8577-71841281a4cd",
   "metadata": {},
   "source": [
    "### 2-1. 프로젝트 디렉토리 설정\n",
    "\n",
    "- 원하는 프로젝트 위치로 이동 후 'git init' 실행"
   ]
  },
  {
   "cell_type": "code",
   "execution_count": 2,
   "id": "287f38e7-3a5e-420a-9dca-f15144b349f0",
   "metadata": {},
   "outputs": [
    {
     "name": "stdout",
     "output_type": "stream",
     "text": [
      "Initialized empty Git repository in C:/1/.git/\n"
     ]
    }
   ],
   "source": [
    "!git init"
   ]
  },
  {
   "cell_type": "markdown",
   "id": "40e435cb-ca53-4699-aeab-245d95f641a0",
   "metadata": {},
   "source": [
    "### 2-2. 버전을 관리할 파일을 선택(stage에 올림)"
   ]
  },
  {
   "cell_type": "code",
   "execution_count": 6,
   "id": "2daaece4-2ab7-4542-8300-3bb6bb1f2931",
   "metadata": {},
   "outputs": [
    {
     "name": "stderr",
     "output_type": "stream",
     "text": [
      "warning: in the working copy of 'Crawling.ipynb', LF will be replaced by CRLF the next time Git touches it\n"
     ]
    }
   ],
   "source": [
    "!git add Crawling.ipynb"
   ]
  },
  {
   "cell_type": "markdown",
   "id": "018afa49-9e2e-4a4d-8f9e-a119c02af375",
   "metadata": {},
   "source": [
    "### 2-3. 하나의 버전으로 만들기\n",
    "\n",
    "* 로컬 시스템에서 파일을 생성/수정/삭제한 파일들을 선별하여 버전을 만드는 것\n",
    "* 파일이 변경될때 변경 사항은 자동으로 저장되지 않음\n",
    "* git에게 새 커밋을 생성하여 변경 사항을 저장하도록 지시"
   ]
  },
  {
   "cell_type": "code",
   "execution_count": 7,
   "id": "7f47480a-1b26-4c41-a112-3c48bd0ec96e",
   "metadata": {},
   "outputs": [
    {
     "name": "stderr",
     "output_type": "stream",
     "text": [
      "Author identity unknown\n",
      "\n",
      "*** Please tell me who you are.\n",
      "\n",
      "Run\n",
      "\n",
      "  git config --global user.email \"you@example.com\"\n",
      "  git config --global user.name \"Your Name\"\n",
      "\n",
      "to set your account's default identity.\n",
      "Omit --global to set the identity only in this repository.\n",
      "\n",
      "fatal: unable to auto-detect email address (got 'Administrator@H32.(none)')\n"
     ]
    }
   ],
   "source": [
    "!git commit -m \"version 0.0\""
   ]
  },
  {
   "cell_type": "code",
   "execution_count": 9,
   "id": "ff28f7e9-523b-45b1-b43e-301a9adbe5b5",
   "metadata": {},
   "outputs": [],
   "source": [
    "# 위와 같은 에러 발생 시\n",
    "\n",
    "!git config --global user.email \"dlsrhd95@gmail.com\"\n",
    "!git config --global user.name \"장인혁\""
   ]
  },
  {
   "cell_type": "code",
   "execution_count": 10,
   "id": "8613aab5-ea55-4497-8471-b81131b89988",
   "metadata": {},
   "outputs": [],
   "source": [
    "# 만약 이메일 또는 이름을 잘못 입력시 위와 같이 동일하게 진행"
   ]
  },
  {
   "cell_type": "code",
   "execution_count": 11,
   "id": "94fda255-dc65-423b-b0ff-3503ba452837",
   "metadata": {},
   "outputs": [
    {
     "name": "stdout",
     "output_type": "stream",
     "text": [
      "[master (root-commit) f91a65c] version 0.0\n",
      " 2 files changed, 236 insertions(+)\n",
      " create mode 100644 Crawling.ipynb\n",
      " create mode 100644 \"\\354\\226\\274\\352\\265\\264_\\353\\271\\204\\352\\265\\220_\\355\\201\\254\\353\\241\\244\\353\\247\\201.ipynb\"\n"
     ]
    }
   ],
   "source": [
    "!git commit -m \"version 0.0\""
   ]
  },
  {
   "cell_type": "markdown",
   "id": "3026f717-4e70-447b-b777-26dffbbcc16a",
   "metadata": {},
   "source": [
    "### 2-4. 로그 확인하기"
   ]
  },
  {
   "cell_type": "code",
   "execution_count": 12,
   "id": "adfafd39-ca2c-457d-b853-772cb71ecdf3",
   "metadata": {},
   "outputs": [
    {
     "name": "stdout",
     "output_type": "stream",
     "text": [
      "commit f91a65cfc673e2eb1036fc38e52f9d84292140a5\n",
      "Author: �옣�씤�쁺 <dlsrhd95@gmail.com>\n",
      "Date:   Mon Sep 30 21:25:25 2024 +0900\n",
      "\n",
      "    version 0.0\n"
     ]
    }
   ],
   "source": [
    "!git log"
   ]
  },
  {
   "cell_type": "markdown",
   "id": "9685a9dd-9a23-4281-9714-1959125f68cf",
   "metadata": {},
   "source": [
    "### 2-5. README.md 만들기\n",
    "\n",
    "* 깃허브에 업로드 시 저장소 메인 설명글로 사용되는 파일\n",
    "* 마크다운으로 작성"
   ]
  },
  {
   "cell_type": "markdown",
   "id": "f2cb801a-21fd-4cca-a471-d1c3c9305503",
   "metadata": {},
   "source": [
    "### 2-6. 여러 파일을 함께 선택하기\n",
    "\n",
    "* state에 현재 디렉토리에 있는 변화된 모든 파일을 선택"
   ]
  },
  {
   "cell_type": "code",
   "execution_count": 28,
   "id": "d8d1a5ec-5f5e-43d2-ba76-06c3aebd68d0",
   "metadata": {},
   "outputs": [
    {
     "name": "stderr",
     "output_type": "stream",
     "text": [
      "warning: in the working copy of 'Crawling.ipynb', LF will be replaced by CRLF the next time Git touches it\n"
     ]
    }
   ],
   "source": [
    "!git add ."
   ]
  },
  {
   "cell_type": "markdown",
   "id": "8ce519cb-8183-458e-84f1-a39be0bb80d1",
   "metadata": {},
   "source": [
    "### 2-7. 선택된 여러 파일을 커밋"
   ]
  },
  {
   "cell_type": "code",
   "execution_count": 33,
   "id": "f0475fbb-0b5b-4fe5-a6d1-cdd7e9573c60",
   "metadata": {},
   "outputs": [
    {
     "name": "stdout",
     "output_type": "stream",
     "text": [
      "[master 6983c3b] 蹂�寃쎈맂 紐⑤뱺 �뙆�씪 而ㅻ컠\n",
      " 3 files changed, 255 insertions(+), 10 deletions(-)\n",
      " rename \"\\354\\226\\274\\352\\265\\264_\\353\\271\\204\\352\\265\\220_\\355\\201\\254\\353\\241\\244\\353\\247\\201.ipynb\" => .ipynb_checkpoints/Crawling-checkpoint.ipynb (80%)\n",
      " create mode 100644 README.md\n"
     ]
    }
   ],
   "source": [
    "!git commit -m \"변경된 모든 파일 커밋\""
   ]
  },
  {
   "cell_type": "markdown",
   "id": "de0fa801-60e8-4574-ab4c-f2748d75c8c1",
   "metadata": {},
   "source": [
    "# **3. 깃허브**\n",
    "\n",
    "* git으로 버전 관리한 코드를 업로드 할 수 있는 클라우드 서비스\n",
    "* 단순히 저장만 하는 것이 아니라 다른 유저들과 함께 코드를 공유하고 온라인으로 하나의 프로젝트를 개발 할 수 있게 해줌"
   ]
  },
  {
   "cell_type": "code",
   "execution_count": 34,
   "id": "4f12eb85-a035-447e-bcdc-fee256e66741",
   "metadata": {},
   "outputs": [
    {
     "name": "stdout",
     "output_type": "stream",
     "text": [
      "commit 6983c3bb8df96cc18fed395c02dc093a9c8b8fed\n",
      "Author: �옣�씤�쁺 <dlsrhd95@gmail.com>\n",
      "Date:   Mon Sep 30 21:43:46 2024 +0900\n",
      "\n",
      "    蹂�寃쎈맂 紐⑤뱺 �뙆�씪 而ㅻ컠\n",
      "\n",
      "commit f91a65cfc673e2eb1036fc38e52f9d84292140a5\n",
      "Author: �옣�씤�쁺 <dlsrhd95@gmail.com>\n",
      "Date:   Mon Sep 30 21:25:25 2024 +0900\n",
      "\n",
      "    version 0.0\n"
     ]
    }
   ],
   "source": [
    "!git log"
   ]
  },
  {
   "cell_type": "markdown",
   "id": "8a0bdf19-3def-4534-99a2-31ddb00019a3",
   "metadata": {},
   "source": [
    "### 3-1. 로컬 저장소에서 github 저장소 주소를 설정"
   ]
  },
  {
   "cell_type": "code",
   "execution_count": 16,
   "id": "0b174d1c-e89f-4b69-8baf-4f9425b454dc",
   "metadata": {},
   "outputs": [],
   "source": [
    "# https://github.com/Loadmap/Study.git\n",
    "\n",
    "!git remote add origin https://github.com/Loadmap/Study.git"
   ]
  },
  {
   "cell_type": "code",
   "execution_count": 17,
   "id": "4f178771-4743-4865-af2f-31a39610cd35",
   "metadata": {},
   "outputs": [
    {
     "name": "stdout",
     "output_type": "stream",
     "text": [
      "origin\thttps://github.com/Loadmap/Study.git (fetch)\n",
      "origin\thttps://github.com/Loadmap/Study.git (push)\n"
     ]
    }
   ],
   "source": [
    "!git remote -v"
   ]
  },
  {
   "cell_type": "code",
   "execution_count": 14,
   "id": "a22bdd58-2480-44e4-afb5-eb75611a561e",
   "metadata": {},
   "outputs": [],
   "source": [
    "# 삭제하기\n",
    "\n",
    "!git remote remove origin"
   ]
  },
  {
   "cell_type": "code",
   "execution_count": 15,
   "id": "884c12f5-29ae-4d60-af7b-5e43732b59f0",
   "metadata": {},
   "outputs": [],
   "source": [
    "!git remote -v"
   ]
  },
  {
   "cell_type": "markdown",
   "id": "7f8a941a-19b6-48c9-8358-5e2dab22e5e5",
   "metadata": {},
   "source": [
    "### 3-2. 생성한 커밋(버전들)을 github로 전송하기"
   ]
  },
  {
   "cell_type": "code",
   "execution_count": 18,
   "id": "8893be38-481e-4707-ba27-b1294706b572",
   "metadata": {},
   "outputs": [
    {
     "name": "stdout",
     "output_type": "stream",
     "text": [
      "branch 'master' set up to track 'origin/master'.\n"
     ]
    },
    {
     "name": "stderr",
     "output_type": "stream",
     "text": [
      "remote: \n",
      "remote: Create a pull request for 'master' on GitHub by visiting:        \n",
      "remote:      https://github.com/Loadmap/Study/pull/new/master        \n",
      "remote: \n",
      "To https://github.com/Loadmap/Study.git\n",
      " * [new branch]      master -> master\n"
     ]
    }
   ],
   "source": [
    "# -u: 업스트림 원격 저장소와 로컬 브랜치가 추적하는 브랜치를 의미 기본적으로 origin master 브랜치를 추적함\n",
    "\n",
    "!git push -u origin master"
   ]
  },
  {
   "cell_type": "markdown",
   "id": "4d8aa52c-d367-4cbe-a7fc-45a5043b18f1",
   "metadata": {},
   "source": [
    "### 3-3. Git Repository clone\n",
    "\n",
    "* Repository 를 로컬 시스템에 복제하는 방법\n",
    "* 지금까지 모든 Repository의 히스토리 포함"
   ]
  },
  {
   "cell_type": "code",
   "execution_count": 19,
   "id": "f23ec909-eb5f-4bef-a93a-ff6b24a03f0f",
   "metadata": {},
   "outputs": [
    {
     "name": "stderr",
     "output_type": "stream",
     "text": [
      "Cloning into 'Study'...\n"
     ]
    }
   ],
   "source": [
    "# 폴더를 생성하고 폴더에 소스코드를 저장\n",
    "\n",
    "!git clone https://github.com/Loadmap/Study.git"
   ]
  },
  {
   "cell_type": "code",
   "execution_count": null,
   "id": "4fbc81ee-9587-41f3-85a3-97a20b072c06",
   "metadata": {},
   "outputs": [],
   "source": [
    "# 폴더를 생성하지 않고 소스코드를 저장\n",
    "\n",
    "!git clone https://github.com/Loadmap/Study.git ."
   ]
  },
  {
   "cell_type": "markdown",
   "id": "4a18448a-9a50-40fd-9ffa-afaeb4615a95",
   "metadata": {},
   "source": [
    "# **4. 다른 사람과의 협업**\n",
    "\n",
    "* 원하는 Repository 에서 -> settings -> 왼쪽메뉴 collaborators -> Manage access 에서 Add people ->\n",
    "  이름 또는 email 추가 -> 초대받은 게정의 메일에서 수락"
   ]
  },
  {
   "cell_type": "markdown",
   "id": "f8a74692-a98f-4948-85ad-628c63511d0a",
   "metadata": {},
   "source": [
    "### 4-1. Git Repository Fork\n",
    "\n",
    "* 하나의 Repository를 다른 계정(또는 네임 스페이스)으로 복사\n",
    "* Git 명령어가 아닌 Github에서 제공하는 명령어\n",
    "* 다른 사람의 github 계정 repository 에서 fork를 눌러 내 게정 repository 로 복사"
   ]
  },
  {
   "cell_type": "markdown",
   "id": "044acb9a-747c-4bf6-9362-81221997998b",
   "metadata": {},
   "source": [
    "### 4-2. pull\n",
    "\n",
    "* 원격 저장소에서 fetch 명령어로 가져온 후 merge 까지 한번에 실행하는 명령"
   ]
  },
  {
   "cell_type": "code",
   "execution_count": 20,
   "id": "243ce7f7-3bc8-48be-b814-95ca71a39897",
   "metadata": {},
   "outputs": [
    {
     "name": "stdout",
     "output_type": "stream",
     "text": [
      "Already up to date.\n"
     ]
    },
    {
     "name": "stderr",
     "output_type": "stream",
     "text": [
      "From https://github.com/Loadmap/Study\n",
      " * [new branch]      main       -> origin/main\n"
     ]
    }
   ],
   "source": [
    "    !git pull origin"
   ]
  },
  {
   "cell_type": "markdown",
   "id": "69a08158-b85b-4aa6-89d8-606e22ceec0a",
   "metadata": {},
   "source": [
    "### 4-3. fetch\n",
    "\n",
    "* 원격 저장소에서 소스를 가져오기 (merge를 사용하지 않음)"
   ]
  },
  {
   "cell_type": "code",
   "execution_count": 21,
   "id": "da0d4ce9-6cbc-4879-ac9b-d3bfc6161c2f",
   "metadata": {},
   "outputs": [],
   "source": [
    "!git fetch origin"
   ]
  },
  {
   "cell_type": "markdown",
   "id": "8723db2a-4ef1-48b2-b54b-27985851ee5c",
   "metadata": {},
   "source": [
    "### 4-4. branch\n",
    "\n",
    "* 작업에 대한 가지\n",
    "* 큰 줄기(master)에 영향을 주지않고 가지에서만 작업을 별도로 할 수 있음\n",
    "* 브랜치를 사용해서 저장소의 메인 분기에 영향을 미치지 않고 여러 기능이나 버그 수정을 동시에 수행 할 수 있음"
   ]
  },
  {
   "cell_type": "code",
   "execution_count": 22,
   "id": "eeecce1c-b323-4177-81be-fe8f8af67b5b",
   "metadata": {},
   "outputs": [
    {
     "name": "stderr",
     "output_type": "stream",
     "text": [
      "Switched to a new branch 'dev'\n"
     ]
    }
   ],
   "source": [
    "!git checkout -b dev"
   ]
  },
  {
   "cell_type": "markdown",
   "id": "b782f929-69af-485b-818d-ef84fcfa14d2",
   "metadata": {},
   "source": [
    "# **5. .gitignore 파일**\n",
    "\n",
    "* 프로젝트에 원하지 않는 백업 파일이나 로그파일 혹은 보안상 문제가 있는 파일들을 git에서 제외 시킬 수 있는 설정 파일"
   ]
  },
  {
   "cell_type": "code",
   "execution_count": null,
   "id": "3986755f-46db-4c2d-8126-ce23f8a76683",
   "metadata": {},
   "outputs": [],
   "source": [
    "!git commit -m \"변경된 모든 파일 커밋\""
   ]
  }
 ],
 "metadata": {
  "kernelspec": {
   "display_name": "Python 3 (ipykernel)",
   "language": "python",
   "name": "python3"
  },
  "language_info": {
   "codemirror_mode": {
    "name": "ipython",
    "version": 3
   },
   "file_extension": ".py",
   "mimetype": "text/x-python",
   "name": "python",
   "nbconvert_exporter": "python",
   "pygments_lexer": "ipython3",
   "version": "3.12.6"
  }
 },
 "nbformat": 4,
 "nbformat_minor": 5
}
