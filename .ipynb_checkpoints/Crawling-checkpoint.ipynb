{
 "cells": [
  {
   "cell_type": "markdown",
   "id": "63602127-79d5-4c7c-bb61-f06c267c77bb",
   "metadata": {},
   "source": [
    "# **1.Git**\n",
    "\n",
    "* 버전 관리 시스템의 한 종류\n",
    "* 버전 관리 : 여러 파일을 하나의 버전으로 묶어 관리하는것"
   ]
  },
  {
   "cell_type": "markdown",
   "id": "3f732fb9-ff9e-49b5-9a2d-60e2e5ddd2b6",
   "metadata": {},
   "source": [
    "### 1-1. 버전 관리 시스템의 종류\n",
    "\n",
    "1. 클라이언트 - 서버 모델 : 하나의 중앙 서버로 여러 클라이언트들이 각자 필요한 것만 가져와서 작업을 하고 중앙 서버로 보내서 통합하는 방식\n",
    "2. 분산 모델 : 하나의 중앙 서버가 존재하지만 여러 클라이언트들은 각자의 컴퓨터에 저장소에 전체 사존을 가지고 작업하는 방식 (GIT)"
   ]
  },
  {
   "cell_type": "markdown",
   "id": "71b7ec99-64b8-480d-a698-dee21a6aa83e",
   "metadata": {},
   "source": [
    "### 1-2. Git 의 장점\n",
    "\n",
    "* 동시에 작업하는 사람들과 소스코드를 주고 받을 필요가 없음\n",
    "* 같은 파일을 여러명이 동시에 병렬 개발이 가능\n",
    "* 변동 과정을 체계적으로 관리할 수 있고 언제든지 지난 시점의 버전으로 되돌릴 수 있음\n",
    "* 인터넷이 연결되지 않은 곳에서도 개발을 진행할 수 있고 중앙 서버의 데이터가 유실 되어도 다시 복구 할 수 있음"
   ]
  },
  {
   "cell_type": "markdown",
   "id": "ca4be0a2-c149-475a-89c7-5dbac800a2bf",
   "metadata": {},
   "source": [
    "### 1-3. Git 설치\n",
    "\n",
    "1. 구글에서 git 설치 검색\n",
    "2. 왼쪽 메뉴에서 다운로드\n",
    "3. 64bit 다운로드\n",
    "4. 설치 끝난후 bash를 통해 버전 확인"
   ]
  },
  {
   "cell_type": "markdown",
   "id": "8a6ca85f-574d-41d6-9827-3c09b9e53883",
   "metadata": {},
   "source": [
    "# **2. Git 명령어**"
   ]
  },
  {
   "cell_type": "markdown",
   "id": "68587102-b8ca-4e88-8577-71841281a4cd",
   "metadata": {},
   "source": [
    "### 2-1. 프로젝트 디렉토리 설정\n",
    "\n",
    "- 원하는 프로젝트 위치로 이동 후 'git init' 실행"
   ]
  },
  {
   "cell_type": "code",
   "execution_count": 3,
   "id": "3402d8c5-609a-48d6-9dae-26db0047ee9b",
   "metadata": {},
   "outputs": [
    {
     "name": "stdout",
     "output_type": "stream",
     "text": [
      "[WinError 123] 파일 이름, 디렉터리 이름 또는 볼륨 레이블 구문이 잘못되었습니다: \"'C:\\\\\\\\1\\\\\\\\house'\"\n",
      "C:\\1\\house\n"
     ]
    }
   ],
   "source": [
    "%cd 'C:\\\\1\\\\house'"
   ]
  },
  {
   "cell_type": "code",
   "execution_count": 4,
   "id": "287f38e7-3a5e-420a-9dca-f15144b349f0",
   "metadata": {},
   "outputs": [
    {
     "name": "stderr",
     "output_type": "stream",
     "text": [
      "'git'은(는) 내부 또는 외부 명령, 실행할 수 있는 프로그램, 또는\n",
      "배치 파일이 아닙니다.\n"
     ]
    }
   ],
   "source": [
    "!git init"
   ]
  },
  {
   "cell_type": "code",
   "execution_count": null,
   "id": "386b7286-545e-40d7-b05d-44471d214689",
   "metadata": {},
   "outputs": [],
   "source": []
  }
 ],
 "metadata": {
  "kernelspec": {
   "display_name": "Python 3 (ipykernel)",
   "language": "python",
   "name": "python3"
  },
  "language_info": {
   "codemirror_mode": {
    "name": "ipython",
    "version": 3
   },
   "file_extension": ".py",
   "mimetype": "text/x-python",
   "name": "python",
   "nbconvert_exporter": "python",
   "pygments_lexer": "ipython3",
   "version": "3.12.6"
  }
 },
 "nbformat": 4,
 "nbformat_minor": 5
}
